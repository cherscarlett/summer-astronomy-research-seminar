{
 "cells": [
  {
   "cell_type": "markdown",
   "id": "06b96726",
   "metadata": {},
   "source": [
    "# Washington Double Star Catalogue Data Reduction\n",
    "\n",
    "Imports a csv with \"WDS\" columns and constrains the data to physical constraint likelihood using proper motion (P.M.) and parallax (Plx). This assumes that magnitude and separation deltas have already been constrained."
   ]
  },
  {
   "cell_type": "code",
   "execution_count": 1,
   "id": "cf4e2212",
   "metadata": {},
   "outputs": [],
   "source": [
    "#imports \n",
    "\n",
    "from astroquery.vizier import Vizier\n",
    "from astropy.coordinates import SkyCoord\n",
    "from astropy import units as u\n",
    "import pandas as pd\n",
    "import re"
   ]
  },
  {
   "cell_type": "code",
   "execution_count": 2,
   "id": "90b59a72",
   "metadata": {},
   "outputs": [],
   "source": [
    "#load and read csv\n",
    "\n",
    "file_path = \"all-sky-constrained.csv\"\n",
    "df = pd.read_csv(file_path) # create a dataframe in pandas"
   ]
  },
  {
   "cell_type": "code",
   "execution_count": null,
   "id": "4f9a6058-e6ff-4215-b57b-d1f5bba8e265",
   "metadata": {},
   "outputs": [],
   "source": [
    "# loop through table\n",
    "\n",
    "for i, row in df.iterrows():\n",
    "    print(row)"
   ]
  }
 ],
 "metadata": {
  "kernelspec": {
   "display_name": "Python 3 (ipykernel)",
   "language": "python",
   "name": "python3"
  },
  "language_info": {
   "codemirror_mode": {
    "name": "ipython",
    "version": 3
   },
   "file_extension": ".py",
   "mimetype": "text/x-python",
   "name": "python",
   "nbconvert_exporter": "python",
   "pygments_lexer": "ipython3",
   "version": "3.13.5"
  }
 },
 "nbformat": 4,
 "nbformat_minor": 5
}
