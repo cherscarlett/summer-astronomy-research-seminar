{
 "cells": [
  {
   "cell_type": "markdown",
   "id": "06b96726",
   "metadata": {},
   "source": [
    "# Washington Double Star Catalogue Data Reduction\n",
    "\n",
    "Imports a csv with \"WDS\" columns and constrains the data to physical constraint likelihood using proper motion (P.M.) and parallax (Plx). This assumes that magnitude and separation deltas have already been constrained."
   ]
  },
  {
   "cell_type": "code",
   "execution_count": null,
   "id": "cf4e2212",
   "metadata": {},
   "outputs": [],
   "source": [
    "#imports \n",
    "\n",
    "from astroquery.vizier import Vizier\n",
    "from astropy.coordinates import SkyCoord\n",
    "from astropy import units as u\n",
    "import pandas as pd\n",
    "import re"
   ]
  },
  {
   "cell_type": "code",
   "execution_count": null,
   "id": "90b59a72",
   "metadata": {},
   "outputs": [],
   "source": [
    "#load and read csv\n",
    "\n",
    "file_path = \"all-sky-constrained.csv\"\n",
    "df = pd.read_csv(file_path)"
   ]
  }
 ],
 "metadata": {
  "language_info": {
   "name": "python"
  }
 },
 "nbformat": 4,
 "nbformat_minor": 5
}
