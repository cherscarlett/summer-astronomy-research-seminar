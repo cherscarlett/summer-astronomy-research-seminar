{
 "cells": [
  {
   "cell_type": "code",
   "execution_count": 1,
   "id": "616b5d69-a2fd-41fc-b5a4-8bb22515d3a2",
   "metadata": {},
   "outputs": [],
   "source": [
    "from astroquery.vizier import Vizier\n",
    "from astropy.coordinates import SkyCoord\n",
    "from astropy import units as u\n",
    "import pandas as pd\n",
    "import re\n",
    "from contextlib import redirect_stdout"
   ]
  },
  {
   "cell_type": "code",
   "execution_count": 2,
   "id": "6d961424-07f3-425e-85e1-e88404c11e4d",
   "metadata": {},
   "outputs": [],
   "source": [
    "file_path = \"candidates.csv\"\n",
    "df = pd.read_csv(file_path)"
   ]
  },
  {
   "cell_type": "code",
   "execution_count": 3,
   "id": "38f07ada",
   "metadata": {},
   "outputs": [
    {
     "name": "stdout",
     "output_type": "stream",
     "text": [
      "177 best candidates saved to: best_physical_double_star_candidates_sorted.csv\n"
     ]
    }
   ],
   "source": [
    "cols_to_convert = [\"rPM\", \"Δ Mag\", \"Δ SEP\", \"obs\", \"sep_last\"]\n",
    "for col in cols_to_convert:\n",
    "    df[col] = pd.to_numeric(df[col], errors='coerce')\n",
    "\n",
    "filtered = df[\n",
    "    ((df[\"rPM\"] < 0.35) | (df[\"rPM\"].isna()))\n",
    "].copy()\n",
    "\n",
    "filtered = filtered.sort_values(\n",
    "    by=[\"rPM\", \"Δ Mag\", \"Δ SEP\", \"obs\"],\n",
    "    ascending=[True, True, True, False]\n",
    ")\n",
    "\n",
    "# Output to CSV\n",
    "output_path = \"best_physical_double_star_candidates_sorted.csv\"\n",
    "filtered.to_csv(output_path, index=False)\n",
    "\n",
    "print(f\"{len(filtered)} best candidates saved to: {output_path}\")\n"
   ]
  },
  {
   "cell_type": "code",
   "execution_count": 4,
   "id": "cddb5974-6aeb-485b-ac6f-613a07931434",
   "metadata": {},
   "outputs": [],
   "source": [
    "def parse_coord(coord_str):\n",
    "    \"\"\"\n",
    "    Parses coord_arcsec_2000 string into an astropy SkyCoord object.\n",
    "    \"\"\"\n",
    "    # Split on first + or -\n",
    "    match = re.match(r\"^([0-9.]+)([+-][0-9.]+)$\", coord_str)\n",
    "    if not match:\n",
    "        raise ValueError(f\"Invalid coordinate string: {coord_str}\")\n",
    "\n",
    "    ra_raw, dec_raw = match.groups()\n",
    "\n",
    "    # Convert RA from hhmmss.ss to hms\n",
    "    ra_h = ra_raw[0:2]\n",
    "    ra_m = ra_raw[2:4]\n",
    "    ra_s = ra_raw[4:]\n",
    "\n",
    "    # Convert Dec from ddmmss.s to dms\n",
    "    dec_sign = dec_raw[0]\n",
    "    dec_d = dec_raw[1:3]\n",
    "    dec_m = dec_raw[3:5]\n",
    "    dec_s = dec_raw[5:]\n",
    "\n",
    "    ra_str = f\"{ra_h}h{ra_m}m{ra_s}s\"\n",
    "    dec_str = f\"{dec_sign}{dec_d}d{dec_m}m{dec_s}s\"\n",
    "\n",
    "    return SkyCoord(ra=ra_str, dec=dec_str, frame=\"icrs\")"
   ]
  },
  {
   "cell_type": "code",
   "execution_count": 5,
   "id": "d16643af-3d50-45f8-80f4-f5d38c4c9cfa",
   "metadata": {},
   "outputs": [],
   "source": [
    "df = pd.read_csv(\"best_physical_double_star_candidates_sorted.csv\")\n",
    "\n",
    "# Query Gaia DR3 for each coordinate\n",
    "Vizier.columns = [\"Source\", \"Plx\", \"e_Plx\", \"Gmag\", \"pmRA\", \"pmDE\"]\n",
    "with open(\"output.txt\", \"w\", encoding=\"utf-8\") as f:\n",
    "    with redirect_stdout(f):\n",
    "        for i, row in df.iterrows():\n",
    "            try:\n",
    "                coord = parse_coord(row[\"coord_arcsec_2000\"])\n",
    "                result = Vizier.query_region(coord, radius=2 * u.arcmin, catalog=\"I/355/gaiadr3\", column_filters={'Gmag': '<14'})\n",
    "        \n",
    "                if result:\n",
    "                    print(f\"\\n===== WDS ID: {row[\"wds_id\"]} =====\")\n",
    "                    print(f\"\\nObservations: {row[\"obs\"]} | Last: {row[\"last\"]} | First: {row[\"first\"]} ({row[\"obs\"]/row[\"Years of Obs\"]} per year)\")\n",
    "                    if pd.isna(row[\"rPM\"]):\n",
    "                        print(f\"Not available\")\n",
    "                    else:\n",
    "                        print(f\"\\nrPM: {row[\"rPM\"]} | Pri P.M.: {row[\"PM 1\"]} | Sec P.M.: {row[\"PM 2\"]}\")\n",
    "                        if row[\"rPM\"] <= 3:\n",
    "                            print(f\"Proper motion indicates physical\")\n",
    "                    print(f\"Pri P.M. R.A. {row[\"pm1_ra\"]} | Pri P.M. Dec. {row[\"pm1_dec\"]} | Sec P.M. R.A. {row[\"pm2_ra\"]} | Sec P.M. Dec. {row[\"pm2_dec\"]}\")\n",
    "                    print(f\"\\nPri mag: {row[\"mag1\"]} | Sec mag: {row[\"mag2\"]} | Δ Mag: {row[\"Δ Mag\"]}\")\n",
    "                    print(f\"P.A. first: {row[\"pa_first\"]} | P.A. last: {row[\"pa_last\"]} | Δ P.A.: {row[\"Δ P.A.\"]}\")\n",
    "                    print(f\"Sep first: {row[\"sep_first\"]} | Sep last: {row[\"sep_last\"]} | Δ Sep: {row[\"Δ SEP\"]}\\n\")\n",
    "                    \n",
    "                    print(f\"-- GAIA DR3/I/355 (region around {row[\"coord_arcsec_2000\"]} within 2 arcmin) --\\n\")\n",
    "                    # Find pair with smallest parallax difference\n",
    "                    min_delta_parallax = float(\"inf\")\n",
    "                    best_pair = (None, None)\n",
    "        \n",
    "                    plx_values = result[0][\"Plx\"].data  # Access parallax values as array\n",
    "                    e_values = result[0][\"e_Plx\"].data  # Access error values as array\n",
    "        \n",
    "                    for j in range(len(plx_values)):\n",
    "                        for k in range(j + 1, len(plx_values)):\n",
    "                            delta = abs(plx_values[j] - plx_values[k])\n",
    "                            if delta < min_delta_parallax:\n",
    "                                min_delta_parallax = delta\n",
    "                                best_pair = (j, k)\n",
    "                    \n",
    "                    if best_pair[0] is not None and best_pair[1] is not None:\n",
    "                        p1 = result[0][best_pair[0]]\n",
    "                        p2 = result[0][best_pair[1]]\n",
    "                        \n",
    "                        if (p1[\"Gmag\"] > p2[\"Gmag\"]):\n",
    "                            old_p2 = p2\n",
    "                            p2 = p1\n",
    "                            p1 = old_p2\n",
    "                    \n",
    "                        # Convert each parallax to distance in parsecs\n",
    "                        d1_pc = 1000 / (p1[\"Plx\"] + p1[\"e_Plx\"])\n",
    "                        d2_pc = 1000 / (p2[\"Plx\"] - p2[\"e_Plx\"])\n",
    "                    \n",
    "                        # Compute radial (line-of-sight) separation in parsecs\n",
    "                        radial_sep_pc = abs(d1_pc - d2_pc)\n",
    "                    \n",
    "                        # Convert to AU and light-years\n",
    "                        radial_sep_au = radial_sep_pc * u.pc.to(u.au)\n",
    "                        radial_sep_ly = radial_sep_pc * u.pc.to(u.lyr)\n",
    "                    \n",
    "                        print(f\"Min radial separation: {radial_sep_pc:.6f} pc | {radial_sep_au:,.0f} AU | {radial_sep_ly:.4f} ly\")\n",
    "                        if radial_sep_au <= 10000:\n",
    "                            print(f\"Radial seperation indicates physical\")\n",
    "                        print(f\"Based on Gaia Sources: {p1['Source']}, {p2['Source']}\\n\\n\")\n",
    "                    else:\n",
    "                        print(\"Not enough Gaia sources with valid parallax to compute separation.\")\n",
    "                        \n",
    "                    print(result[0])\n",
    "            except Exception as e:\n",
    "                print(f\"Error for {row['coord_arcsec_2000']}: {e}\")"
   ]
  },
  {
   "cell_type": "code",
   "execution_count": null,
   "id": "50e04556-71c0-40a6-8b62-6b7560f2fca2",
   "metadata": {},
   "outputs": [],
   "source": []
  }
 ],
 "metadata": {
  "kernelspec": {
   "display_name": "Python 3 (ipykernel)",
   "language": "python",
   "name": "python3"
  },
  "language_info": {
   "codemirror_mode": {
    "name": "ipython",
    "version": 3
   },
   "file_extension": ".py",
   "mimetype": "text/x-python",
   "name": "python",
   "nbconvert_exporter": "python",
   "pygments_lexer": "ipython3",
   "version": "3.13.5"
  }
 },
 "nbformat": 4,
 "nbformat_minor": 5
}
